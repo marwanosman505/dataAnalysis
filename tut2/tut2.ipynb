{
 "cells": [
  {
   "cell_type": "markdown",
   "metadata": {},
   "source": [
    "**Exercise 1**"
   ]
  },
  {
   "cell_type": "markdown",
   "metadata": {},
   "source": [
    "1."
   ]
  },
  {
   "cell_type": "code",
   "execution_count": 2,
   "metadata": {},
   "outputs": [
    {
     "name": "stdout",
     "output_type": "stream",
     "text": [
      "   raw_row_number        date      time                          location  \\\n",
      "0               1  2011-01-01  01:00:00                        TRO COUNTY   \n",
      "1               2  2011-01-01  01:00:00                        TRO COUNTY   \n",
      "2               3  2011-01-01  01:29:00     2 WY 22|2 WY 22, TETON COUNTY   \n",
      "3               4  2011-01-01  03:00:00     111 I 80 E, SWEETWATER COUNTY   \n",
      "4               5  2011-01-01  04:15:00  10 26|10 26|10 26, PLATTE COUNTY   \n",
      "5               6  2011-01-01  05:55:00                3 22, TETON COUNTY   \n",
      "6               7  2011-01-01  06:20:00                   SUBLETTE COUNTY   \n",
      "7               8  2011-01-01  07:30:00          8 I 25 N, LARAMIE COUNTY   \n",
      "8               9  2011-01-01  08:00:00           95 191, SUBLETTE COUNTY   \n",
      "9              10  2011-01-01  08:15:00               31 114, PARK COUNTY   \n",
      "\n",
      "         county_name  subject_age subject_race subject_sex officer_id_hash  \\\n",
      "0     Natrona County         23.0        white        male      791f232f61   \n",
      "1     Natrona County         24.0        white        male      791f232f61   \n",
      "2       Teton County         45.0        white        male      f369634e28   \n",
      "3  Sweetwater County         49.0        white        male      decf9509bb   \n",
      "4      Platte County         36.0     hispanic        male      3f486394a7   \n",
      "5       Teton County         33.0        white        male      eaeaf19018   \n",
      "6    Sublette County         54.0        white        male      58747fe63d   \n",
      "7     Laramie County         48.0        white        male      a4ceae6655   \n",
      "8    Sublette County         38.0        white        male      eb37cf8bfd   \n",
      "9        Park County         28.0        white        male      4a74d2fd1f   \n",
      "\n",
      "  department_id       type                                          violation  \n",
      "0             B  vehicular                                  SEAT BELT: DRIVER  \n",
      "1             B  vehicular                               SEAT BELT: PASSENGER  \n",
      "2             K  vehicular  DUI: ALCOHOL 0.08% OR MORE|DRIVE VEH W/I SINGL...  \n",
      "3             E  vehicular   FAIL TO REPORT OVER $1,000 PROP DAMAGE OR INJURY  \n",
      "4             F  vehicular  PEDESTRIAN UND INFLU OF ALCOHOL OR CONTR SUBST...  \n",
      "5             K  vehicular   DRIVE WHILE LIC CANCELLED, SUSPENDED, OR REVOKED  \n",
      "6             T  vehicular         EXCEED POSTED SPEED IN SUPERINTENDENT ZONE  \n",
      "7             A  vehicular         EXCEED POSTED SPEED IN SUPERINTENDENT ZONE  \n",
      "8             T  vehicular                          COMPULSORY AUTO INSURANCE  \n",
      "9             N  vehicular          EXCEED 65 MPH ON PRMRY/SCNDRY HWY (SPEED)  \n"
     ]
    }
   ],
   "source": [
    "import pandas as pd\n",
    "\n",
    "df = pd.read_csv(\"./police.csv\")\n",
    "print(df.head(10))"
   ]
  },
  {
   "cell_type": "code",
   "execution_count": 3,
   "metadata": {},
   "outputs": [
    {
     "name": "stdout",
     "output_type": "stream",
     "text": [
      "        raw_row_number   date   time  location  county_name  subject_age  \\\n",
      "0                False  False  False     False        False        False   \n",
      "1                False  False  False     False        False        False   \n",
      "2                False  False  False     False        False        False   \n",
      "3                False  False  False     False        False        False   \n",
      "4                False  False  False     False        False        False   \n",
      "...                ...    ...    ...       ...          ...          ...   \n",
      "173306           False  False  False     False        False        False   \n",
      "173307           False  False  False     False        False        False   \n",
      "173308           False  False  False     False         True        False   \n",
      "173309           False  False  False     False        False        False   \n",
      "173310           False  False  False     False        False        False   \n",
      "\n",
      "        subject_race  subject_sex  officer_id_hash  department_id   type  \\\n",
      "0              False        False            False          False  False   \n",
      "1              False        False            False          False  False   \n",
      "2              False        False            False          False  False   \n",
      "3              False        False            False          False  False   \n",
      "4              False        False            False          False  False   \n",
      "...              ...          ...              ...            ...    ...   \n",
      "173306         False        False            False          False  False   \n",
      "173307         False        False            False           True  False   \n",
      "173308         False        False            False          False  False   \n",
      "173309         False        False            False          False  False   \n",
      "173310         False        False            False          False  False   \n",
      "\n",
      "        violation  \n",
      "0           False  \n",
      "1           False  \n",
      "2           False  \n",
      "3           False  \n",
      "4           False  \n",
      "...           ...  \n",
      "173306      False  \n",
      "173307      False  \n",
      "173308      False  \n",
      "173309      False  \n",
      "173310      False  \n",
      "\n",
      "[173311 rows x 12 columns]\n"
     ]
    }
   ],
   "source": [
    "print(df.isna())    "
   ]
  }
 ],
 "metadata": {
  "kernelspec": {
   "display_name": "base",
   "language": "python",
   "name": "python3"
  },
  "language_info": {
   "codemirror_mode": {
    "name": "ipython",
    "version": 3
   },
   "file_extension": ".py",
   "mimetype": "text/x-python",
   "name": "python",
   "nbconvert_exporter": "python",
   "pygments_lexer": "ipython3",
   "version": "3.9.13"
  }
 },
 "nbformat": 4,
 "nbformat_minor": 2
}
