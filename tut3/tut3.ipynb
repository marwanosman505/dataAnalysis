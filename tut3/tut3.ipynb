{
 "cells": [
  {
   "cell_type": "markdown",
   "metadata": {},
   "source": [
    "**Simulation and Hypothisis Testing**"
   ]
  },
  {
   "cell_type": "markdown",
   "metadata": {},
   "source": [
    "1.1"
   ]
  },
  {
   "cell_type": "code",
   "execution_count": 1,
   "metadata": {},
   "outputs": [
    {
     "name": "stdout",
     "output_type": "stream",
     "text": [
      "24\n",
      "180\n",
      "250\n",
      "100\n"
     ]
    }
   ],
   "source": [
    "import pandas as pd\n",
    "\n",
    "visits = [24, 180, 250, 100]\n",
    "purchase = [3, 30, 50, 15]\n",
    "\n",
    "df = pd.DataFrame({'exercise': [1, 2, 3, 4], 'visits': visits, 'purchase': purchase})\n",
    "\n",
    "for index, row in df.iterrows():\n",
    "    print(row['purchase']/row['visits'])"
   ]
  }
 ],
 "metadata": {
  "kernelspec": {
   "display_name": "base",
   "language": "python",
   "name": "python3"
  },
  "language_info": {
   "codemirror_mode": {
    "name": "ipython",
    "version": 3
   },
   "file_extension": ".py",
   "mimetype": "text/x-python",
   "name": "python",
   "nbconvert_exporter": "python",
   "pygments_lexer": "ipython3",
   "version": "3.9.13"
  }
 },
 "nbformat": 4,
 "nbformat_minor": 2
}
