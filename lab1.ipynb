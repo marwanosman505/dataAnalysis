{
 "cells": [
  {
   "cell_type": "markdown",
   "metadata": {},
   "source": [
    "**Exercise 1**"
   ]
  },
  {
   "cell_type": "code",
   "execution_count": 4,
   "metadata": {},
   "outputs": [
    {
     "data": {
      "image/png": "[encoded data removed]",
      "text/plain": [
       "<Figure size 640x480 with 1 Axes>"
      ]
     },
     "metadata": {},
     "output_type": "display_data"
    }
   ],
   "source": [
    "import numpy as np\n",
    "import matplotlib.pyplot as plt \n",
    "\n",
    "# set range of x values\n",
    "x = np.linspace(-4, 4)\n",
    "\n",
    "# define y with respect to x\n",
    "y = x**3 - 4\n",
    "plt.plot(x, y)\n",
    "plt.show()"
   ]
  },
  {
   "cell_type": "markdown",
   "metadata": {},
   "source": [
    "**Exercise 2**"
   ]
  },
  {
   "cell_type": "code",
   "execution_count": 10,
   "metadata": {},
   "outputs": [
    {
     "name": "stdout",
     "output_type": "stream",
     "text": [
      "0.7\n",
      "0.84\n",
      "0.762\n",
      "0.7828\n"
     ]
    }
   ],
   "source": [
    "values = []\n",
    "inCircle = 0\n",
    "\n",
    "def dotsInClircle(n):\n",
    "    values = []\n",
    "    inCircle = 0\n",
    "\n",
    "    for i in range(n):\n",
    "        values.append({\n",
    "            'x': np.random.uniform(-0.5, 0.5), \n",
    "            'y': np.random.uniform(-0.5, 0.5)\n",
    "            })\n",
    "    # print(values)\n",
    "\n",
    "    for i in range(n):\n",
    "        x = values[i]['x']\n",
    "        y = values[i]['y']\n",
    "        r = np.math.sqrt(x**2 + y**2)\n",
    "        if r < 0.5:\n",
    "            values[i][\"inCircle\"] = True\n",
    "            inCircle+=1\n",
    "        else:\n",
    "            values[i][\"inCircle\"] = False\n",
    "\n",
    "    return inCircle/n\n",
    "    \n",
    "print(dotsInClircle(10))\n",
    "print(dotsInClircle(100))\n",
    "print(dotsInClircle(1000))\n",
    "print(dotsInClircle(10000))"
   ]
  },
  {
   "cell_type": "markdown",
   "metadata": {},
   "source": [
    "*Description:*\n",
    "The dotsInCircle function generates n random points with coordinates in the range (-0.5, 0.5) and checks if each point falls within a circle with a radius of 0.5 centered at the origin (0,0). It returns the ratio of points that are inside the circle to the total number of points generated, providing an estimate of the circle's area in relation to the square's area (pi/4)."
   ]
  },
  {
   "cell_type": "markdown",
   "metadata": {},
   "source": [
    "*Conclusion:*\n",
    "As n, the number of generated points, increases in the dotsInCircle function, the observed probability of a point falling inside the circle approaches the theoretical value of π/4 (approximately 0.7853), showcasing the convergence of the Monte Carlo estimation towards the expected probability with larger sample sizes."
   ]
  },
  {
   "cell_type": "markdown",
   "metadata": {},
   "source": [
    "**Exercise 3**"
   ]
  },
  {
   "cell_type": "code",
   "execution_count": 14,
   "metadata": {},
   "outputs": [
    {
     "name": "stdout",
     "output_type": "stream",
     "text": [
      "0.6290591540494817\n",
      "0.0004290603331967846\n"
     ]
    }
   ],
   "source": [
    "from scipy import stats\n",
    "\n",
    "biDist = stats.binom(15, 0.33)\n",
    "print(dist.cdf(5))\n",
    "\n",
    "normDist = stats.norm(60, 3)\n",
    "print(1-normDist.cdf(70))"
   ]
  },
  {
   "cell_type": "markdown",
   "metadata": {},
   "source": [
    "**Exercise 5**"
   ]
  },
  {
   "cell_type": "code",
   "execution_count": 15,
   "metadata": {},
   "outputs": [
    {
     "name": "stdout",
     "output_type": "stream",
     "text": [
      "[<built-in method mean of numpy.ndarray object at 0x000001C20FCF5F30>, 51.0, <built-in method var of numpy.ndarray object at 0x000001C20FCF5F30>, <built-in method std of numpy.ndarray object at 0x000001C20FCF5F30>]\n"
     ]
    }
   ],
   "source": [
    "def my_summary(x):\n",
    "    x = np.array(x)\n",
    "    mean = x.mean\n",
    "    median = np.median(x)\n",
    "    variance = x.var\n",
    "    sd = x.std\n",
    "    return([mean, median, variance, sd])\n",
    "\n",
    "print(my_summary([1, 2, 51, 1251, 122]))"
   ]
  },
  {
   "cell_type": "markdown",
   "metadata": {},
   "source": [
    "**Exercise 6**"
   ]
  },
  {
   "cell_type": "code",
   "execution_count": null,
   "metadata": {},
   "outputs": [],
   "source": [
    "import re\n",
    "hand =  "
   ]
  }
 ],
 "metadata": {
  "kernelspec": {
   "display_name": "base",
   "language": "python",
   "name": "python3"
  },
  "language_info": {
   "codemirror_mode": {
    "name": "ipython",
    "version": 3
   },
   "file_extension": ".py",
   "mimetype": "text/x-python",
   "name": "python",
   "nbconvert_exporter": "python",
   "pygments_lexer": "ipython3",
   "version": "3.9.13"
  }
 },
 "nbformat": 4,
 "nbformat_minor": 2
}
