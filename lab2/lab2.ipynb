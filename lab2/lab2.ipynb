{
 "cells": [
  {
   "cell_type": "markdown",
   "metadata": {},
   "source": [
    "**Preparing and Descirbing the Data**"
   ]
  },
  {
   "cell_type": "markdown",
   "metadata": {},
   "source": [
    "1a"
   ]
  },
  {
   "cell_type": "code",
   "execution_count": 28,
   "metadata": {},
   "outputs": [
    {
     "name": "stdout",
     "output_type": "stream",
     "text": [
      "                 Province/State       Country/Region       Lat        Long  \\\n",
      "0                           NaN          Afghanistan  33.93911   67.709953   \n",
      "1                           NaN              Albania  41.15330   20.168300   \n",
      "2                           NaN              Algeria  28.03390    1.659600   \n",
      "3                           NaN              Andorra  42.50630    1.521800   \n",
      "4                           NaN               Angola -11.20270   17.873900   \n",
      "5                           NaN           Antarctica -71.94990   23.347000   \n",
      "6                           NaN  Antigua and Barbuda  17.06080  -61.796400   \n",
      "7                           NaN            Argentina -38.41610  -63.616700   \n",
      "8                           NaN              Armenia  40.06910   45.038200   \n",
      "9  Australian Capital Territory            Australia -35.47350  149.012400   \n",
      "\n",
      "   1/22/20  1/23/20  1/24/20  1/25/20  1/26/20  1/27/20  ...   2/28/23  \\\n",
      "0        0        0        0        0        0        0  ...    209322   \n",
      "1        0        0        0        0        0        0  ...    334391   \n",
      "2        0        0        0        0        0        0  ...    271441   \n",
      "3        0        0        0        0        0        0  ...     47866   \n",
      "4        0        0        0        0        0        0  ...    105255   \n",
      "5        0        0        0        0        0        0  ...        11   \n",
      "6        0        0        0        0        0        0  ...      9106   \n",
      "7        0        0        0        0        0        0  ...  10044125   \n",
      "8        0        0        0        0        0        0  ...    446819   \n",
      "9        0        0        0        0        0        0  ...    232018   \n",
      "\n",
      "     3/1/23    3/2/23    3/3/23    3/4/23    3/5/23    3/6/23    3/7/23  \\\n",
      "0    209340    209358    209362    209369    209390    209406    209436   \n",
      "1    334408    334408    334427    334427    334427    334427    334427   \n",
      "2    271448    271463    271469    271469    271477    271477    271490   \n",
      "3     47875     47875     47875     47875     47875     47875     47875   \n",
      "4    105277    105277    105277    105277    105277    105277    105277   \n",
      "5        11        11        11        11        11        11        11   \n",
      "6      9106      9106      9106      9106      9106      9106      9106   \n",
      "7  10044125  10044125  10044125  10044125  10044125  10044957  10044957   \n",
      "8    446819    446819    446819    446819    446819    446819    446819   \n",
      "9    232018    232619    232619    232619    232619    232619    232619   \n",
      "\n",
      "     3/8/23    3/9/23  \n",
      "0    209451    209451  \n",
      "1    334443    334457  \n",
      "2    271494    271496  \n",
      "3     47890     47890  \n",
      "4    105288    105288  \n",
      "5        11        11  \n",
      "6      9106      9106  \n",
      "7  10044957  10044957  \n",
      "8    447308    447308  \n",
      "9    232619    232974  \n",
      "\n",
      "[10 rows x 1147 columns]\n"
     ]
    }
   ],
   "source": [
    "import pandas as pd\n",
    "confirmed_global = \"https://raw.githubusercontent.com/CSSEGISandData/COVID-19/master/csse_covid_19_data/csse_covid_19_time_series/time_series_covid19_confirmed_global.csv\"\n",
    "deaths_global = \"https://raw.githubusercontent.com/CSSEGISandData/COVID-19/master/csse_covid_19_data/csse_covid_19_time_series/time_series_covid19_deaths_global.csv\"\n",
    "recovered_global = \"https://raw.githubusercontent.com/CSSEGISandData/COVID-19/master/csse_covid_19_data/csse_covid_19_time_series/time_series_covid19_recovered_global.csv\"\n",
    "\n",
    "df_confirmed = pd.read_csv(confirmed_global)\n",
    "df_deaths = pd.read_csv(deaths_global)\n",
    "df_recovered = pd.read_csv(recovered_global)\n",
    "\n",
    "print(df_confirmed.head(10))"
   ]
  },
  {
   "cell_type": "markdown",
   "metadata": {},
   "source": [
    "1b"
   ]
  },
  {
   "cell_type": "code",
   "execution_count": 13,
   "metadata": {},
   "outputs": [
    {
     "data": {
      "text/plain": [
       "Province/State    198\n",
       "Country/Region      0\n",
       "Lat                 2\n",
       "Long                2\n",
       "1/22/20             0\n",
       "                 ... \n",
       "3/5/23              0\n",
       "3/6/23              0\n",
       "3/7/23              0\n",
       "3/8/23              0\n",
       "3/9/23              0\n",
       "Length: 1147, dtype: int64"
      ]
     },
     "execution_count": 13,
     "metadata": {},
     "output_type": "execute_result"
    }
   ],
   "source": [
    "df_confirmed.shape\n",
    "df_confirmed.isnull().sum()"
   ]
  },
  {
   "cell_type": "markdown",
   "metadata": {},
   "source": [
    "1c"
   ]
  },
  {
   "cell_type": "code",
   "execution_count": 14,
   "metadata": {},
   "outputs": [
    {
     "data": {
      "text/plain": [
       "<bound method NDFrame.describe of     Province/State        Country/Region        Lat        Long  1/22/20  \\\n",
       "0              NaN           Afghanistan  33.939110   67.709953        0   \n",
       "1              NaN               Albania  41.153300   20.168300        0   \n",
       "2              NaN               Algeria  28.033900    1.659600        0   \n",
       "3              NaN               Andorra  42.506300    1.521800        0   \n",
       "4              NaN                Angola -11.202700   17.873900        0   \n",
       "..             ...                   ...        ...         ...      ...   \n",
       "284            NaN    West Bank and Gaza  31.952200   35.233200        0   \n",
       "285            NaN  Winter Olympics 2022  39.904200  116.407400        0   \n",
       "286            NaN                 Yemen  15.552727   48.516388        0   \n",
       "287            NaN                Zambia -13.133897   27.849332        0   \n",
       "288            NaN              Zimbabwe -19.015438   29.154857        0   \n",
       "\n",
       "     1/23/20  1/24/20  1/25/20  1/26/20  1/27/20  ...  2/28/23  3/1/23  \\\n",
       "0          0        0        0        0        0  ...   209322  209340   \n",
       "1          0        0        0        0        0  ...   334391  334408   \n",
       "2          0        0        0        0        0  ...   271441  271448   \n",
       "3          0        0        0        0        0  ...    47866   47875   \n",
       "4          0        0        0        0        0  ...   105255  105277   \n",
       "..       ...      ...      ...      ...      ...  ...      ...     ...   \n",
       "284        0        0        0        0        0  ...   703228  703228   \n",
       "285        0        0        0        0        0  ...      535     535   \n",
       "286        0        0        0        0        0  ...    11945   11945   \n",
       "287        0        0        0        0        0  ...   343012  343012   \n",
       "288        0        0        0        0        0  ...   263921  264127   \n",
       "\n",
       "     3/2/23  3/3/23  3/4/23  3/5/23  3/6/23  3/7/23  3/8/23  3/9/23  \n",
       "0    209358  209362  209369  209390  209406  209436  209451  209451  \n",
       "1    334408  334427  334427  334427  334427  334427  334443  334457  \n",
       "2    271463  271469  271469  271477  271477  271490  271494  271496  \n",
       "3     47875   47875   47875   47875   47875   47875   47890   47890  \n",
       "4    105277  105277  105277  105277  105277  105277  105288  105288  \n",
       "..      ...     ...     ...     ...     ...     ...     ...     ...  \n",
       "284  703228  703228  703228  703228  703228  703228  703228  703228  \n",
       "285     535     535     535     535     535     535     535     535  \n",
       "286   11945   11945   11945   11945   11945   11945   11945   11945  \n",
       "287  343079  343079  343079  343135  343135  343135  343135  343135  \n",
       "288  264127  264127  264127  264127  264127  264127  264276  264276  \n",
       "\n",
       "[289 rows x 1147 columns]>"
      ]
     },
     "execution_count": 14,
     "metadata": {},
     "output_type": "execute_result"
    }
   ],
   "source": [
    "df_confirmed.describe"
   ]
  },
  {
   "cell_type": "markdown",
   "metadata": {},
   "source": [
    "**Basic Data Handling and Visualisation**"
   ]
  },
  {
   "cell_type": "markdown",
   "metadata": {},
   "source": [
    "2a"
   ]
  },
  {
   "cell_type": "markdown",
   "metadata": {},
   "source": [
    "- filter dataframes"
   ]
  },
  {
   "cell_type": "code",
   "execution_count": 67,
   "metadata": {},
   "outputs": [
    {
     "name": "stderr",
     "output_type": "stream",
     "text": [
      "C:\\Users\\defpr\\AppData\\Local\\Temp\\ipykernel_20900\\2272473925.py:7: SettingWithCopyWarning: \n",
      "A value is trying to be set on a copy of a slice from a DataFrame\n",
      "\n",
      "See the caveats in the documentation: https://pandas.pydata.org/pandas-docs/stable/user_guide/indexing.html#returning-a-view-versus-a-copy\n",
      "  df_confirmed_filtered.rename(columns={df_confirmed.columns[-1]: \"total_confirmed\"}, inplace=True)\n",
      "C:\\Users\\defpr\\AppData\\Local\\Temp\\ipykernel_20900\\2272473925.py:12: SettingWithCopyWarning: \n",
      "A value is trying to be set on a copy of a slice from a DataFrame\n",
      "\n",
      "See the caveats in the documentation: https://pandas.pydata.org/pandas-docs/stable/user_guide/indexing.html#returning-a-view-versus-a-copy\n",
      "  df_deaths_filtered.rename(columns={df_deaths.columns[-1]: \"total_deaths\"}, inplace=True)\n",
      "C:\\Users\\defpr\\AppData\\Local\\Temp\\ipykernel_20900\\2272473925.py:15: SettingWithCopyWarning: \n",
      "A value is trying to be set on a copy of a slice from a DataFrame\n",
      "\n",
      "See the caveats in the documentation: https://pandas.pydata.org/pandas-docs/stable/user_guide/indexing.html#returning-a-view-versus-a-copy\n",
      "  df_recovered_filtered.rename(columns={df_recovered.columns[-1]: \"total_recovered\"}, inplace=True)\n",
      "C:\\Users\\defpr\\AppData\\Local\\Temp\\ipykernel_20900\\2272473925.py:22: SettingWithCopyWarning: \n",
      "A value is trying to be set on a copy of a slice from a DataFrame.\n",
      "Try using .loc[row_indexer,col_indexer] = value instead\n",
      "\n",
      "See the caveats in the documentation: https://pandas.pydata.org/pandas-docs/stable/user_guide/indexing.html#returning-a-view-versus-a-copy\n",
      "  df_recovered_filtered.iloc[index, df_recovered_filtered.columns.get_loc(\"total_recovered\")] = x\n"
     ]
    },
    {
     "name": "stdout",
     "output_type": "stream",
     "text": [
      "           Country/Region  total_recovered\n",
      "0             Afghanistan            82586\n",
      "1                 Albania           130314\n",
      "2                 Algeria           118409\n",
      "3                 Andorra            14380\n",
      "4                  Angola            39582\n",
      "..                    ...              ...\n",
      "269    West Bank and Gaza           312320\n",
      "270  Winter Olympics 2022              116\n",
      "271                 Yemen             4251\n",
      "272                Zambia           189658\n",
      "273              Zimbabwe            82994\n",
      "\n",
      "[274 rows x 2 columns]\n"
     ]
    },
    {
     "name": "stderr",
     "output_type": "stream",
     "text": [
      "C:\\Users\\defpr\\AppData\\Local\\Temp\\ipykernel_20900\\2272473925.py:26: SettingWithCopyWarning: \n",
      "A value is trying to be set on a copy of a slice from a DataFrame.\n",
      "Try using .loc[row_indexer,col_indexer] = value instead\n",
      "\n",
      "See the caveats in the documentation: https://pandas.pydata.org/pandas-docs/stable/user_guide/indexing.html#returning-a-view-versus-a-copy\n",
      "  df_recovered_filtered[\"total_recovered\"] = df_recovered_filtered['total_recovered'].astype(int)\n"
     ]
    }
   ],
   "source": [
    "confirmed_group = df_confirmed.groupby(\"Country/Region\")\n",
    "death_group = df_confirmed.groupby(\"Country/Region\")\n",
    "recovered_group = df_confirmed.groupby(\"Country/Region\")\n",
    "\n",
    "# filter confirmed cases\n",
    "df_confirmed_filtered = df_confirmed[[\"Country/Region\", df_confirmed.columns[-1]]]\n",
    "df_confirmed_filtered.rename(columns={df_confirmed.columns[-1]: \"total_confirmed\"}, inplace=True)\n",
    "# print(df_confirmed_filtered)\n",
    "\n",
    "# filter deaths\n",
    "df_deaths_filtered = df_deaths[[\"Country/Region\", df_deaths.columns[-1]]]\n",
    "df_deaths_filtered.rename(columns={df_deaths.columns[-1]: \"total_deaths\"}, inplace=True)\n",
    "# print(df_deaths_filtered)\n",
    "df_recovered_filtered = df_recovered[[\"Country/Region\", df_recovered.columns[-1]]]\n",
    "df_recovered_filtered.rename(columns={df_recovered.columns[-1]: \"total_recovered\"}, inplace=True)\n",
    "\n",
    "#filter recovered\n",
    "for index, row in df_recovered.iterrows():\n",
    "    for x in reversed(row):\n",
    "        if x != 0:\n",
    "            # df_confirmed_filtered.at[index, \"total_recovered\"] = x\n",
    "            df_recovered_filtered.iloc[index, df_recovered_filtered.columns.get_loc(\"total_recovered\")] = x\n",
    "            # print(index)\n",
    "            break\n",
    "\n",
    "df_recovered_filtered[\"total_recovered\"] = df_recovered_filtered['total_recovered'].astype(int)\n",
    "\n",
    "print(df_recovered_filtered)\n",
    "\n"
   ]
  },
  {
   "cell_type": "code",
   "execution_count": 70,
   "metadata": {},
   "outputs": [
    {
     "name": "stdout",
     "output_type": "stream",
     "text": [
      "                        0                                                  1\n",
      "0             Afghanistan    Country/Region  total_confirmed\n",
      "0    Afghani...\n",
      "1                 Albania    Country/Region  total_confirmed\n",
      "1        Alb...\n",
      "2                 Algeria    Country/Region  total_confirmed\n",
      "2        Alg...\n",
      "3                 Andorra    Country/Region  total_confirmed\n",
      "3        And...\n",
      "4                  Angola    Country/Region  total_confirmed\n",
      "4         An...\n",
      "..                    ...                                                ...\n",
      "196    West Bank and Gaza           Country/Region  total_confirmed\n",
      "284  ...\n",
      "197  Winter Olympics 2022             Country/Region  total_confirmed\n",
      "285...\n",
      "198                 Yemen      Country/Region  total_confirmed\n",
      "286       ...\n",
      "199                Zambia      Country/Region  total_confirmed\n",
      "287       ...\n",
      "200              Zimbabwe      Country/Region  total_confirmed\n",
      "288       ...\n",
      "\n",
      "[201 rows x 2 columns]\n"
     ]
    }
   ],
   "source": [
    "newdf = pd.DataFrame(df_confirmed_filtered.groupby(\"Country/Region\"))\n",
    "print(newdf)"
   ]
  }
 ],
 "metadata": {
  "kernelspec": {
   "display_name": "base",
   "language": "python",
   "name": "python3"
  },
  "language_info": {
   "codemirror_mode": {
    "name": "ipython",
    "version": 3
   },
   "file_extension": ".py",
   "mimetype": "text/x-python",
   "name": "python",
   "nbconvert_exporter": "python",
   "pygments_lexer": "ipython3",
   "version": "3.9.13"
  }
 },
 "nbformat": 4,
 "nbformat_minor": 2
}
